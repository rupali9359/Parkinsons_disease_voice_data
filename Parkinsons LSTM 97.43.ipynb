{
 "cells": [
  {
   "cell_type": "markdown",
   "id": "cf94b8a9",
   "metadata": {},
   "source": [
    "# Libraries"
   ]
  },
  {
   "cell_type": "code",
   "execution_count": 1,
   "id": "dde844d7",
   "metadata": {},
   "outputs": [],
   "source": [
    "import warnings\n",
    "warnings.filterwarnings('ignore')\n",
    "import os\n",
    "import numpy as np\n",
    "import pandas as pd\n",
    "import matplotlib.pyplot as plt\n",
    "import seaborn as sns\n",
    "from sklearn.preprocessing import MinMaxScaler\n",
    "from sklearn.model_selection import train_test_split\n",
    "import tensorflow as tf\n",
    "import tensorflow_addons as tfa\n",
    "from tensorflow.keras.layers import *\n",
    "from tensorflow.keras.models import Sequential\n",
    "from tensorflow.keras.utils import to_categorical\n",
    "from sklearn.metrics import confusion_matrix\n",
    "from sklearn.metrics import classification_report\n",
    "from sklearn.metrics import ConfusionMatrixDisplay , accuracy_score\n",
    "from keras.models import Sequential\n",
    "from keras.layers import LSTM, Dense\n",
    "from sklearn.model_selection import GridSearchCV\n",
    "from sklearn.base import BaseEstimator, ClassifierMixin\n",
    "from sklearn.utils.validation import check_X_y"
   ]
  },
  {
   "cell_type": "markdown",
   "id": "35406eb8",
   "metadata": {},
   "source": [
    "# Import dataset"
   ]
  },
  {
   "cell_type": "code",
   "execution_count": 2,
   "id": "d3b0c797",
   "metadata": {},
   "outputs": [],
   "source": [
    "df = pd.read_csv(r\"C:\\Users\\Rupali\\Downloads\\PD data1 sent to Proajyot Sir.csv\")"
   ]
  },
  {
   "cell_type": "markdown",
   "id": "be5d840d",
   "metadata": {},
   "source": [
    "# Removing columns "
   ]
  },
  {
   "cell_type": "code",
   "execution_count": 3,
   "id": "be1740e0",
   "metadata": {},
   "outputs": [],
   "source": [
    "df = df.drop([\"Sr.\",\"name\",\"MDVP:Shimmer(dB)\",\"MDVP:PPQ\",\"MDVP:Jitter(Abs)\",\"Shimmer:APQ5\",\"MDVP:Jitter(%)\",\"MDVP:Flo(Hz)\"], axis=1)"
   ]
  },
  {
   "cell_type": "markdown",
   "id": "a350cff2",
   "metadata": {},
   "source": [
    "2 are unique id and 5 by feature selection"
   ]
  },
  {
   "cell_type": "markdown",
   "id": "a9c68e75",
   "metadata": {},
   "source": [
    "# Splitting data into Train and Test"
   ]
  },
  {
   "cell_type": "code",
   "execution_count": 4,
   "id": "739ecb12",
   "metadata": {},
   "outputs": [],
   "source": [
    "train_df, test_df = train_test_split(df, \n",
    "                                     test_size=0.2, \n",
    "                                     random_state=42)"
   ]
  },
  {
   "cell_type": "markdown",
   "id": "32c23078",
   "metadata": {},
   "source": [
    "# Splitting Train data into train and Validation"
   ]
  },
  {
   "cell_type": "code",
   "execution_count": 5,
   "id": "8280f84a",
   "metadata": {},
   "outputs": [],
   "source": [
    "train_df, val_df = train_test_split(train_df,\n",
    "                                    test_size=0.2,\n",
    "                                    random_state=42)"
   ]
  },
  {
   "cell_type": "code",
   "execution_count": 6,
   "id": "9e83e4e8",
   "metadata": {},
   "outputs": [
    {
     "data": {
      "text/plain": [
       "((124, 17), (39, 17), (32, 17))"
      ]
     },
     "execution_count": 6,
     "metadata": {},
     "output_type": "execute_result"
    }
   ],
   "source": [
    "train_df.shape,test_df.shape,val_df.shape"
   ]
  },
  {
   "cell_type": "markdown",
   "id": "268b259c",
   "metadata": {},
   "source": [
    "# Balancing Data"
   ]
  },
  {
   "cell_type": "code",
   "execution_count": 7,
   "id": "ad11bc22",
   "metadata": {},
   "outputs": [
    {
     "data": {
      "text/plain": [
       "1    92\n",
       "0    32\n",
       "Name: status, dtype: int64"
      ]
     },
     "execution_count": 7,
     "metadata": {},
     "output_type": "execute_result"
    }
   ],
   "source": [
    "train_df.status.value_counts()"
   ]
  },
  {
   "cell_type": "code",
   "execution_count": 8,
   "id": "563dc5e0",
   "metadata": {},
   "outputs": [
    {
     "data": {
      "text/plain": [
       "0    92\n",
       "1    92\n",
       "Name: status, dtype: int64"
      ]
     },
     "execution_count": 8,
     "metadata": {},
     "output_type": "execute_result"
    }
   ],
   "source": [
    "c_1,c_0=train_df[\"status\"].value_counts()\n",
    "c_1,c_0\n",
    "train_df_0=train_df.loc[df[\"status\"]==0]\n",
    "train_df_1=train_df.loc[df[\"status\"]==1]\n",
    "train_df_0.shape,train_df_1.shape\n",
    "class_over=train_df_0.sample(92,replace=True,random_state=100)\n",
    "class1_0=pd.concat([class_over,train_df_1],axis=0)\n",
    "class1_0.status.value_counts()"
   ]
  },
  {
   "cell_type": "code",
   "execution_count": 9,
   "id": "6b86b098",
   "metadata": {},
   "outputs": [],
   "source": [
    "train_df=class1_0"
   ]
  },
  {
   "cell_type": "code",
   "execution_count": 10,
   "id": "a4d07e91",
   "metadata": {},
   "outputs": [],
   "source": [
    "X_train = train_df.drop('status', axis=1).values.astype('float32')\n",
    "y_train = train_df['status'].values.astype('int32')\n",
    "X_val = val_df.drop('status', axis=1).values.astype('float32')\n",
    "y_val = val_df['status'].values.astype('int32')\n",
    "X_test = test_df.drop('status', axis=1).values.astype('float32')\n",
    "y_test = test_df['status'].values.astype('int32')"
   ]
  },
  {
   "cell_type": "markdown",
   "id": "08920159",
   "metadata": {},
   "source": [
    "# Standardization"
   ]
  },
  {
   "cell_type": "code",
   "execution_count": 11,
   "id": "c339babb",
   "metadata": {},
   "outputs": [],
   "source": [
    "mmsc = MinMaxScaler()\n",
    "X_train = mmsc.fit_transform(X_train) \n",
    "X_val = mmsc.transform(X_val)\n",
    "X_test = mmsc.transform(X_test)"
   ]
  },
  {
   "cell_type": "code",
   "execution_count": 12,
   "id": "80d0945a",
   "metadata": {},
   "outputs": [],
   "source": [
    "# # Build the LSTM model\n",
    "# model = Sequential()\n",
    "# model.add(LSTM(128, input_shape=(16, 1), activation='relu', return_sequences=True))\n",
    "# model.add(LSTM(64))\n",
    "# model.add(Dense(32))\n",
    "# model.add(Dense(1))\n",
    "\n",
    "# # Compile the model\n",
    "# model.compile(loss='mean_squared_error', optimizer='adam',metrics=['accuracy'])\n",
    "\n",
    "# # Train the model\n",
    "# model.fit(X_train, y_train, epochs=100, batch_size=32)\n",
    "\n",
    "# # Evaluate the model on test data\n",
    "# loss, accuracy = model.evaluate(X_test, y_test)\n",
    "# print(\"Test Loss:\", loss)\n",
    "# print(\"Test Accuracy:\", accuracy)"
   ]
  },
  {
   "cell_type": "code",
   "execution_count": 13,
   "id": "70ce0887",
   "metadata": {},
   "outputs": [],
   "source": [
    "# model.evaluate(X_test, y_test)"
   ]
  },
  {
   "cell_type": "code",
   "execution_count": 14,
   "id": "96e2caaa",
   "metadata": {},
   "outputs": [],
   "source": [
    "# # Define the LSTM model\n",
    "# model = Sequential()\n",
    "# model.add(LSTM(32, input_shape=(16, 1)))\n",
    "# model.add(Dense(1, activation='sigmoid'))\n",
    "\n",
    "# # Compile the model\n",
    "# model.compile(loss='binary_crossentropy', optimizer='adam', metrics=['accuracy'])\n",
    "\n",
    "# # Train the model\n",
    "# model.fit(X_train, y_train, epochs=50, batch_size=32)\n",
    "\n",
    "# # Evaluate the model on the test data\n",
    "# loss, accuracy = model.evaluate(X_test, y_test)\n",
    "# print(\"Test Loss:\", loss)\n",
    "# print(\"Test Accuracy:\", accuracy)"
   ]
  },
  {
   "cell_type": "code",
   "execution_count": 15,
   "id": "8ef529ff",
   "metadata": {},
   "outputs": [],
   "source": [
    "# y_train = to_categorical(y_train)\n",
    "# y_val = to_categorical(y_val)\n",
    "# y_test = to_categorical(y_test)"
   ]
  },
  {
   "cell_type": "code",
   "execution_count": 16,
   "id": "07bc0adf",
   "metadata": {},
   "outputs": [
    {
     "name": "stdout",
     "output_type": "stream",
     "text": [
      "Model: \"sequential\"\n",
      "_________________________________________________________________\n",
      " Layer (type)                Output Shape              Param #   \n",
      "=================================================================\n",
      " lstm (LSTM)                 (None, 16, 128)           66560     \n",
      "                                                                 \n",
      " lstm_1 (LSTM)               (None, 64)                49408     \n",
      "                                                                 \n",
      " dense (Dense)               (None, 32)                2080      \n",
      "                                                                 \n",
      " dense_1 (Dense)             (None, 16)                528       \n",
      "                                                                 \n",
      " dense_2 (Dense)             (None, 1)                 17        \n",
      "                                                                 \n",
      "=================================================================\n",
      "Total params: 118593 (463.25 KB)\n",
      "Trainable params: 118593 (463.25 KB)\n",
      "Non-trainable params: 0 (0.00 Byte)\n",
      "_________________________________________________________________\n"
     ]
    }
   ],
   "source": [
    "shape = X_train.shape[1]\n",
    "#num_classes = y_train.shape[1]\n",
    "\n",
    "\n",
    "model = Sequential()\n",
    "model.add(LSTM(128, input_shape=(16, 1), activation='relu', return_sequences=True))\n",
    "model.add(LSTM(64))\n",
    "model.add(Dense(32))\n",
    "model.add(Dense(16))\n",
    "model.add(Dense(1))\n",
    "opt = tfa.optimizers.RectifiedAdam()\n",
    "model.compile(loss='mean_squared_error', optimizer=opt, metrics=['accuracy'])\n",
    "model.summary()"
   ]
  },
  {
   "cell_type": "code",
   "execution_count": 17,
   "id": "db2660f1",
   "metadata": {},
   "outputs": [
    {
     "name": "stdout",
     "output_type": "stream",
     "text": [
      "Epoch 1/500\n",
      "9/9 [==============================] - 4s 141ms/step - loss: 0.4648 - accuracy: 0.5000 - val_loss: 0.6492 - val_accuracy: 0.2812\n",
      "Epoch 2/500\n",
      "9/9 [==============================] - 0s 22ms/step - loss: 0.4408 - accuracy: 0.5000 - val_loss: 0.6116 - val_accuracy: 0.2812\n",
      "Epoch 3/500\n",
      "9/9 [==============================] - 0s 24ms/step - loss: 0.4089 - accuracy: 0.5000 - val_loss: 0.5579 - val_accuracy: 0.2812\n",
      "Epoch 4/500\n",
      "9/9 [==============================] - 0s 27ms/step - loss: 0.3668 - accuracy: 0.5000 - val_loss: 0.4856 - val_accuracy: 0.2812\n",
      "Epoch 5/500\n",
      "9/9 [==============================] - 0s 29ms/step - loss: 0.3172 - accuracy: 0.5000 - val_loss: 0.3914 - val_accuracy: 0.2812\n",
      "Epoch 6/500\n",
      "9/9 [==============================] - 0s 22ms/step - loss: 0.2528 - accuracy: 0.5163 - val_loss: 0.2916 - val_accuracy: 0.3125\n",
      "Epoch 7/500\n",
      "9/9 [==============================] - 0s 23ms/step - loss: 0.2088 - accuracy: 0.7609 - val_loss: 0.2125 - val_accuracy: 0.6562\n",
      "Epoch 8/500\n",
      "9/9 [==============================] - 0s 23ms/step - loss: 0.2057 - accuracy: 0.6033 - val_loss: 0.1984 - val_accuracy: 0.7188\n",
      "Epoch 9/500\n",
      "9/9 [==============================] - 0s 25ms/step - loss: 0.2000 - accuracy: 0.6902 - val_loss: 0.2183 - val_accuracy: 0.5625\n",
      "Epoch 10/500\n",
      "9/9 [==============================] - 0s 23ms/step - loss: 0.1979 - accuracy: 0.8043 - val_loss: 0.2368 - val_accuracy: 0.6250\n",
      "Epoch 11/500\n",
      "9/9 [==============================] - 0s 20ms/step - loss: 0.1920 - accuracy: 0.8098 - val_loss: 0.2088 - val_accuracy: 0.5625\n",
      "Epoch 12/500\n",
      "9/9 [==============================] - 0s 20ms/step - loss: 0.1840 - accuracy: 0.7935 - val_loss: 0.2115 - val_accuracy: 0.5938\n",
      "Epoch 13/500\n",
      "9/9 [==============================] - 0s 20ms/step - loss: 0.1759 - accuracy: 0.8478 - val_loss: 0.2204 - val_accuracy: 0.6250\n",
      "Epoch 14/500\n",
      "9/9 [==============================] - 0s 20ms/step - loss: 0.1708 - accuracy: 0.8207 - val_loss: 0.2102 - val_accuracy: 0.5938\n",
      "Epoch 15/500\n",
      "9/9 [==============================] - 0s 24ms/step - loss: 0.1619 - accuracy: 0.8043 - val_loss: 0.1978 - val_accuracy: 0.5938\n",
      "Epoch 16/500\n",
      "9/9 [==============================] - 0s 21ms/step - loss: 0.1569 - accuracy: 0.8152 - val_loss: 0.2133 - val_accuracy: 0.5938\n",
      "Epoch 17/500\n",
      "9/9 [==============================] - 0s 25ms/step - loss: 0.1492 - accuracy: 0.8261 - val_loss: 0.2087 - val_accuracy: 0.5625\n",
      "Epoch 18/500\n",
      "9/9 [==============================] - 0s 24ms/step - loss: 0.1426 - accuracy: 0.8315 - val_loss: 0.1818 - val_accuracy: 0.6250\n",
      "Epoch 19/500\n",
      "9/9 [==============================] - 0s 24ms/step - loss: 0.1376 - accuracy: 0.7826 - val_loss: 0.2039 - val_accuracy: 0.5625\n",
      "Epoch 20/500\n",
      "9/9 [==============================] - 0s 23ms/step - loss: 0.1374 - accuracy: 0.7989 - val_loss: 0.1786 - val_accuracy: 0.5938\n",
      "Epoch 21/500\n",
      "9/9 [==============================] - 0s 22ms/step - loss: 0.1362 - accuracy: 0.7880 - val_loss: 0.1889 - val_accuracy: 0.5938\n",
      "Epoch 22/500\n",
      "9/9 [==============================] - 0s 24ms/step - loss: 0.1335 - accuracy: 0.7989 - val_loss: 0.2075 - val_accuracy: 0.5625\n",
      "Epoch 23/500\n",
      "9/9 [==============================] - 0s 30ms/step - loss: 0.1356 - accuracy: 0.8424 - val_loss: 0.1840 - val_accuracy: 0.6250\n",
      "Epoch 24/500\n",
      "9/9 [==============================] - 0s 30ms/step - loss: 0.1341 - accuracy: 0.8207 - val_loss: 0.2053 - val_accuracy: 0.5625\n",
      "Epoch 25/500\n",
      "9/9 [==============================] - 0s 28ms/step - loss: 0.1326 - accuracy: 0.8207 - val_loss: 0.2065 - val_accuracy: 0.5625\n",
      "Epoch 26/500\n",
      "9/9 [==============================] - 0s 29ms/step - loss: 0.1357 - accuracy: 0.8261 - val_loss: 0.1773 - val_accuracy: 0.6250\n",
      "Epoch 27/500\n",
      "9/9 [==============================] - 0s 29ms/step - loss: 0.1323 - accuracy: 0.8261 - val_loss: 0.1956 - val_accuracy: 0.5625\n",
      "Epoch 28/500\n",
      "9/9 [==============================] - 0s 23ms/step - loss: 0.1311 - accuracy: 0.7989 - val_loss: 0.1859 - val_accuracy: 0.5938\n",
      "Epoch 29/500\n",
      "9/9 [==============================] - 0s 22ms/step - loss: 0.1363 - accuracy: 0.8152 - val_loss: 0.1801 - val_accuracy: 0.6250\n",
      "Epoch 30/500\n",
      "9/9 [==============================] - 0s 23ms/step - loss: 0.1394 - accuracy: 0.8261 - val_loss: 0.2251 - val_accuracy: 0.5938\n",
      "Epoch 31/500\n",
      "9/9 [==============================] - 0s 26ms/step - loss: 0.1373 - accuracy: 0.8261 - val_loss: 0.1799 - val_accuracy: 0.6250\n",
      "Epoch 32/500\n",
      "9/9 [==============================] - 0s 24ms/step - loss: 0.1448 - accuracy: 0.8098 - val_loss: 0.2120 - val_accuracy: 0.5625\n",
      "Epoch 33/500\n",
      "9/9 [==============================] - 0s 23ms/step - loss: 0.1321 - accuracy: 0.8424 - val_loss: 0.1752 - val_accuracy: 0.6250\n",
      "Epoch 34/500\n",
      "9/9 [==============================] - 0s 23ms/step - loss: 0.1342 - accuracy: 0.8261 - val_loss: 0.1996 - val_accuracy: 0.5625\n",
      "Epoch 35/500\n",
      "9/9 [==============================] - 0s 21ms/step - loss: 0.1304 - accuracy: 0.8043 - val_loss: 0.1863 - val_accuracy: 0.6250\n",
      "Epoch 36/500\n",
      "9/9 [==============================] - 0s 25ms/step - loss: 0.1315 - accuracy: 0.8370 - val_loss: 0.1937 - val_accuracy: 0.5938\n",
      "Epoch 37/500\n",
      "9/9 [==============================] - 0s 33ms/step - loss: 0.1305 - accuracy: 0.8152 - val_loss: 0.2049 - val_accuracy: 0.5625\n",
      "Epoch 38/500\n",
      "9/9 [==============================] - 0s 21ms/step - loss: 0.1305 - accuracy: 0.8478 - val_loss: 0.1920 - val_accuracy: 0.5938\n",
      "Epoch 39/500\n",
      "9/9 [==============================] - 0s 23ms/step - loss: 0.1318 - accuracy: 0.8207 - val_loss: 0.1887 - val_accuracy: 0.5938\n",
      "Epoch 40/500\n",
      "9/9 [==============================] - 0s 23ms/step - loss: 0.1285 - accuracy: 0.8315 - val_loss: 0.2031 - val_accuracy: 0.5625\n",
      "Epoch 41/500\n",
      "9/9 [==============================] - 0s 21ms/step - loss: 0.1290 - accuracy: 0.8315 - val_loss: 0.1953 - val_accuracy: 0.5625\n",
      "Epoch 42/500\n",
      "9/9 [==============================] - 0s 23ms/step - loss: 0.1280 - accuracy: 0.8043 - val_loss: 0.1944 - val_accuracy: 0.5938\n",
      "Epoch 43/500\n",
      "9/9 [==============================] - 0s 29ms/step - loss: 0.1336 - accuracy: 0.8207 - val_loss: 0.2112 - val_accuracy: 0.5625\n",
      "Epoch 44/500\n",
      "9/9 [==============================] - 0s 22ms/step - loss: 0.1305 - accuracy: 0.8370 - val_loss: 0.1774 - val_accuracy: 0.6562\n",
      "Epoch 45/500\n",
      "9/9 [==============================] - 0s 21ms/step - loss: 0.1328 - accuracy: 0.8207 - val_loss: 0.2044 - val_accuracy: 0.5625\n",
      "Epoch 46/500\n",
      "9/9 [==============================] - 0s 23ms/step - loss: 0.1290 - accuracy: 0.8315 - val_loss: 0.1911 - val_accuracy: 0.5938\n",
      "Epoch 47/500\n",
      "9/9 [==============================] - 0s 23ms/step - loss: 0.1283 - accuracy: 0.8152 - val_loss: 0.1917 - val_accuracy: 0.5938\n",
      "Epoch 48/500\n",
      "9/9 [==============================] - 0s 29ms/step - loss: 0.1298 - accuracy: 0.8424 - val_loss: 0.1776 - val_accuracy: 0.6250\n",
      "Epoch 49/500\n",
      "9/9 [==============================] - 0s 22ms/step - loss: 0.1260 - accuracy: 0.8424 - val_loss: 0.1891 - val_accuracy: 0.6250\n",
      "Epoch 50/500\n",
      "9/9 [==============================] - 0s 27ms/step - loss: 0.1265 - accuracy: 0.8261 - val_loss: 0.1885 - val_accuracy: 0.5938\n",
      "Epoch 51/500\n",
      "9/9 [==============================] - 0s 20ms/step - loss: 0.1248 - accuracy: 0.8533 - val_loss: 0.1747 - val_accuracy: 0.6562\n",
      "Epoch 52/500\n",
      "9/9 [==============================] - 0s 26ms/step - loss: 0.1279 - accuracy: 0.8370 - val_loss: 0.1975 - val_accuracy: 0.5625\n",
      "Epoch 53/500\n",
      "9/9 [==============================] - 0s 23ms/step - loss: 0.1249 - accuracy: 0.8587 - val_loss: 0.1766 - val_accuracy: 0.6562\n",
      "Epoch 54/500\n",
      "9/9 [==============================] - 0s 22ms/step - loss: 0.1253 - accuracy: 0.8641 - val_loss: 0.2023 - val_accuracy: 0.5625\n",
      "Epoch 55/500\n",
      "9/9 [==============================] - 0s 26ms/step - loss: 0.1223 - accuracy: 0.8478 - val_loss: 0.1822 - val_accuracy: 0.6250\n",
      "Epoch 56/500\n",
      "9/9 [==============================] - 0s 24ms/step - loss: 0.1221 - accuracy: 0.8696 - val_loss: 0.1764 - val_accuracy: 0.6562\n",
      "Epoch 57/500\n",
      "9/9 [==============================] - 0s 21ms/step - loss: 0.1202 - accuracy: 0.8804 - val_loss: 0.1852 - val_accuracy: 0.5938\n",
      "Epoch 58/500\n",
      "9/9 [==============================] - 0s 24ms/step - loss: 0.1239 - accuracy: 0.8315 - val_loss: 0.2072 - val_accuracy: 0.5312\n",
      "Epoch 59/500\n"
     ]
    },
    {
     "name": "stdout",
     "output_type": "stream",
     "text": [
      "9/9 [==============================] - 0s 37ms/step - loss: 0.1225 - accuracy: 0.8533 - val_loss: 0.1660 - val_accuracy: 0.6250\n",
      "Epoch 60/500\n",
      "9/9 [==============================] - 0s 20ms/step - loss: 0.1251 - accuracy: 0.8587 - val_loss: 0.1756 - val_accuracy: 0.6562\n",
      "Epoch 61/500\n",
      "9/9 [==============================] - 0s 23ms/step - loss: 0.1247 - accuracy: 0.8424 - val_loss: 0.1949 - val_accuracy: 0.5938\n",
      "Epoch 62/500\n",
      "9/9 [==============================] - 0s 29ms/step - loss: 0.1152 - accuracy: 0.8967 - val_loss: 0.1873 - val_accuracy: 0.5938\n",
      "Epoch 63/500\n",
      "9/9 [==============================] - 0s 23ms/step - loss: 0.1185 - accuracy: 0.8750 - val_loss: 0.1669 - val_accuracy: 0.6562\n",
      "Epoch 64/500\n",
      "9/9 [==============================] - 0s 21ms/step - loss: 0.1099 - accuracy: 0.8859 - val_loss: 0.2199 - val_accuracy: 0.6250\n",
      "Epoch 65/500\n",
      "9/9 [==============================] - 0s 22ms/step - loss: 0.1219 - accuracy: 0.8478 - val_loss: 0.1887 - val_accuracy: 0.6562\n",
      "Epoch 66/500\n",
      "9/9 [==============================] - 0s 23ms/step - loss: 0.1105 - accuracy: 0.8804 - val_loss: 0.1620 - val_accuracy: 0.7500\n",
      "Epoch 67/500\n",
      "9/9 [==============================] - 0s 25ms/step - loss: 0.1080 - accuracy: 0.8804 - val_loss: 0.1766 - val_accuracy: 0.6562\n",
      "Epoch 68/500\n",
      "9/9 [==============================] - 0s 25ms/step - loss: 0.1051 - accuracy: 0.8913 - val_loss: 0.2019 - val_accuracy: 0.6250\n",
      "Epoch 69/500\n",
      "9/9 [==============================] - 0s 23ms/step - loss: 0.1120 - accuracy: 0.8696 - val_loss: 0.1613 - val_accuracy: 0.7500\n",
      "Epoch 70/500\n",
      "9/9 [==============================] - 0s 23ms/step - loss: 0.1143 - accuracy: 0.8478 - val_loss: 0.1534 - val_accuracy: 0.7812\n",
      "Epoch 71/500\n",
      "9/9 [==============================] - 0s 23ms/step - loss: 0.1076 - accuracy: 0.8967 - val_loss: 0.1810 - val_accuracy: 0.6250\n",
      "Epoch 72/500\n",
      "9/9 [==============================] - 0s 23ms/step - loss: 0.1052 - accuracy: 0.9022 - val_loss: 0.1621 - val_accuracy: 0.7500\n",
      "Epoch 73/500\n",
      "9/9 [==============================] - 0s 21ms/step - loss: 0.0990 - accuracy: 0.9130 - val_loss: 0.1597 - val_accuracy: 0.7188\n",
      "Epoch 74/500\n",
      "9/9 [==============================] - 0s 26ms/step - loss: 0.0980 - accuracy: 0.9076 - val_loss: 0.1763 - val_accuracy: 0.6875\n",
      "Epoch 75/500\n",
      "9/9 [==============================] - 0s 24ms/step - loss: 0.0968 - accuracy: 0.9022 - val_loss: 0.1504 - val_accuracy: 0.7500\n",
      "Epoch 76/500\n",
      "9/9 [==============================] - 0s 21ms/step - loss: 0.0946 - accuracy: 0.9076 - val_loss: 0.1682 - val_accuracy: 0.6875\n",
      "Epoch 77/500\n",
      "9/9 [==============================] - 0s 27ms/step - loss: 0.0959 - accuracy: 0.8913 - val_loss: 0.1509 - val_accuracy: 0.7500\n",
      "Epoch 78/500\n",
      "9/9 [==============================] - 0s 21ms/step - loss: 0.0882 - accuracy: 0.9022 - val_loss: 0.1434 - val_accuracy: 0.8438\n",
      "Epoch 79/500\n",
      "9/9 [==============================] - 0s 21ms/step - loss: 0.0868 - accuracy: 0.9076 - val_loss: 0.1642 - val_accuracy: 0.7500\n",
      "Epoch 80/500\n",
      "9/9 [==============================] - 0s 23ms/step - loss: 0.0926 - accuracy: 0.9130 - val_loss: 0.1837 - val_accuracy: 0.7188\n",
      "Epoch 81/500\n",
      "9/9 [==============================] - 0s 20ms/step - loss: 0.0887 - accuracy: 0.9076 - val_loss: 0.1537 - val_accuracy: 0.7500\n",
      "Epoch 82/500\n",
      "9/9 [==============================] - 0s 23ms/step - loss: 0.0875 - accuracy: 0.9185 - val_loss: 0.1329 - val_accuracy: 0.8750\n",
      "Epoch 83/500\n",
      "9/9 [==============================] - 0s 20ms/step - loss: 0.0909 - accuracy: 0.9293 - val_loss: 0.2381 - val_accuracy: 0.6562\n",
      "Epoch 84/500\n",
      "9/9 [==============================] - 0s 21ms/step - loss: 0.0969 - accuracy: 0.9022 - val_loss: 0.1676 - val_accuracy: 0.6562\n",
      "Epoch 85/500\n",
      "9/9 [==============================] - 0s 22ms/step - loss: 0.0956 - accuracy: 0.9022 - val_loss: 0.1618 - val_accuracy: 0.7500\n",
      "Epoch 86/500\n",
      "9/9 [==============================] - 0s 23ms/step - loss: 0.0994 - accuracy: 0.9185 - val_loss: 0.1577 - val_accuracy: 0.7812\n",
      "Epoch 87/500\n",
      "9/9 [==============================] - 0s 22ms/step - loss: 0.1020 - accuracy: 0.8804 - val_loss: 0.1431 - val_accuracy: 0.8125\n",
      "Epoch 88/500\n",
      "9/9 [==============================] - 0s 20ms/step - loss: 0.0898 - accuracy: 0.9130 - val_loss: 0.1281 - val_accuracy: 0.8750\n",
      "Epoch 89/500\n",
      "9/9 [==============================] - 0s 23ms/step - loss: 0.0841 - accuracy: 0.9185 - val_loss: 0.1635 - val_accuracy: 0.7500\n",
      "Epoch 90/500\n",
      "9/9 [==============================] - 0s 21ms/step - loss: 0.0810 - accuracy: 0.9185 - val_loss: 0.1476 - val_accuracy: 0.8125\n",
      "Epoch 91/500\n",
      "9/9 [==============================] - 0s 22ms/step - loss: 0.0808 - accuracy: 0.9239 - val_loss: 0.1453 - val_accuracy: 0.8125\n",
      "Epoch 92/500\n",
      "9/9 [==============================] - 0s 25ms/step - loss: 0.0771 - accuracy: 0.9185 - val_loss: 0.1279 - val_accuracy: 0.8750\n",
      "Epoch 93/500\n",
      "9/9 [==============================] - 0s 21ms/step - loss: 0.0724 - accuracy: 0.9348 - val_loss: 0.1276 - val_accuracy: 0.8125\n",
      "Epoch 94/500\n",
      "9/9 [==============================] - 0s 22ms/step - loss: 0.0711 - accuracy: 0.9293 - val_loss: 0.1449 - val_accuracy: 0.8125\n",
      "Epoch 95/500\n",
      "9/9 [==============================] - 0s 23ms/step - loss: 0.0714 - accuracy: 0.9348 - val_loss: 0.1567 - val_accuracy: 0.8438\n",
      "Epoch 96/500\n",
      "9/9 [==============================] - 0s 22ms/step - loss: 0.0792 - accuracy: 0.9402 - val_loss: 0.1337 - val_accuracy: 0.8125\n",
      "Epoch 97/500\n",
      "9/9 [==============================] - 0s 24ms/step - loss: 0.0781 - accuracy: 0.9402 - val_loss: 0.1449 - val_accuracy: 0.8438\n",
      "Epoch 98/500\n",
      "9/9 [==============================] - 0s 20ms/step - loss: 0.0732 - accuracy: 0.9239 - val_loss: 0.1260 - val_accuracy: 0.8438\n",
      "Epoch 99/500\n",
      "9/9 [==============================] - 0s 22ms/step - loss: 0.0685 - accuracy: 0.9293 - val_loss: 0.1134 - val_accuracy: 0.8750\n",
      "Epoch 100/500\n",
      "9/9 [==============================] - 0s 20ms/step - loss: 0.0604 - accuracy: 0.9511 - val_loss: 0.1173 - val_accuracy: 0.8438\n",
      "Epoch 101/500\n",
      "9/9 [==============================] - 0s 22ms/step - loss: 0.0638 - accuracy: 0.9457 - val_loss: 0.1170 - val_accuracy: 0.9062\n",
      "Epoch 102/500\n",
      "9/9 [==============================] - 0s 21ms/step - loss: 0.0569 - accuracy: 0.9565 - val_loss: 0.1272 - val_accuracy: 0.8438\n",
      "Epoch 103/500\n",
      "9/9 [==============================] - 0s 22ms/step - loss: 0.0610 - accuracy: 0.9511 - val_loss: 0.1348 - val_accuracy: 0.8125\n",
      "Epoch 104/500\n",
      "9/9 [==============================] - 0s 23ms/step - loss: 0.0678 - accuracy: 0.9457 - val_loss: 0.1255 - val_accuracy: 0.8438\n",
      "Epoch 105/500\n",
      "9/9 [==============================] - 0s 21ms/step - loss: 0.0714 - accuracy: 0.9348 - val_loss: 0.1299 - val_accuracy: 0.8438\n",
      "Epoch 106/500\n",
      "9/9 [==============================] - 0s 25ms/step - loss: 0.0640 - accuracy: 0.9457 - val_loss: 0.1409 - val_accuracy: 0.8750\n",
      "Epoch 107/500\n",
      "9/9 [==============================] - 0s 21ms/step - loss: 0.0750 - accuracy: 0.9293 - val_loss: 0.1503 - val_accuracy: 0.8125\n",
      "Epoch 108/500\n",
      "9/9 [==============================] - 0s 23ms/step - loss: 0.0845 - accuracy: 0.9185 - val_loss: 0.1087 - val_accuracy: 0.8750\n",
      "Epoch 109/500\n",
      "9/9 [==============================] - 0s 20ms/step - loss: 0.0831 - accuracy: 0.9076 - val_loss: 0.1056 - val_accuracy: 0.9062\n",
      "Epoch 110/500\n",
      "9/9 [==============================] - 0s 21ms/step - loss: 0.0794 - accuracy: 0.9348 - val_loss: 0.1121 - val_accuracy: 0.8750\n",
      "Epoch 111/500\n",
      "9/9 [==============================] - 0s 24ms/step - loss: 0.0803 - accuracy: 0.8859 - val_loss: 0.1191 - val_accuracy: 0.8750\n",
      "Epoch 112/500\n",
      "9/9 [==============================] - 0s 22ms/step - loss: 0.0683 - accuracy: 0.9293 - val_loss: 0.1200 - val_accuracy: 0.8438\n",
      "Epoch 113/500\n",
      "9/9 [==============================] - 0s 22ms/step - loss: 0.0542 - accuracy: 0.9293 - val_loss: 0.0922 - val_accuracy: 0.8750\n",
      "Epoch 114/500\n",
      "9/9 [==============================] - 0s 21ms/step - loss: 0.0514 - accuracy: 0.9620 - val_loss: 0.0985 - val_accuracy: 0.9062\n",
      "Epoch 115/500\n",
      "9/9 [==============================] - 0s 22ms/step - loss: 0.0466 - accuracy: 0.9620 - val_loss: 0.1011 - val_accuracy: 0.8750\n",
      "Epoch 116/500\n",
      "9/9 [==============================] - 0s 21ms/step - loss: 0.0477 - accuracy: 0.9511 - val_loss: 0.0981 - val_accuracy: 0.8750\n",
      "Epoch 117/500\n"
     ]
    },
    {
     "name": "stdout",
     "output_type": "stream",
     "text": [
      "9/9 [==============================] - 0s 22ms/step - loss: 0.0612 - accuracy: 0.9402 - val_loss: 0.0941 - val_accuracy: 0.9062\n",
      "Epoch 118/500\n",
      "9/9 [==============================] - 0s 21ms/step - loss: 0.0633 - accuracy: 0.9402 - val_loss: 0.0857 - val_accuracy: 0.9062\n",
      "Epoch 119/500\n",
      "9/9 [==============================] - 0s 22ms/step - loss: 0.0639 - accuracy: 0.9511 - val_loss: 0.1361 - val_accuracy: 0.7812\n",
      "Epoch 120/500\n",
      "9/9 [==============================] - 0s 21ms/step - loss: 0.0623 - accuracy: 0.9348 - val_loss: 0.0992 - val_accuracy: 0.8438\n",
      "Epoch 121/500\n",
      "9/9 [==============================] - 0s 21ms/step - loss: 0.0496 - accuracy: 0.9565 - val_loss: 0.0971 - val_accuracy: 0.8750\n",
      "Epoch 122/500\n",
      "9/9 [==============================] - 0s 21ms/step - loss: 0.0461 - accuracy: 0.9620 - val_loss: 0.1060 - val_accuracy: 0.8438\n",
      "Epoch 123/500\n",
      "9/9 [==============================] - 0s 27ms/step - loss: 0.0439 - accuracy: 0.9620 - val_loss: 0.0956 - val_accuracy: 0.8750\n",
      "Epoch 124/500\n",
      "9/9 [==============================] - 0s 21ms/step - loss: 0.0441 - accuracy: 0.9620 - val_loss: 0.0876 - val_accuracy: 0.9062\n",
      "Epoch 125/500\n",
      "9/9 [==============================] - 0s 23ms/step - loss: 0.0419 - accuracy: 0.9620 - val_loss: 0.0863 - val_accuracy: 0.9062\n",
      "Epoch 126/500\n",
      "9/9 [==============================] - 0s 24ms/step - loss: 0.0411 - accuracy: 0.9511 - val_loss: 0.0957 - val_accuracy: 0.8750\n",
      "Epoch 127/500\n",
      "9/9 [==============================] - 0s 33ms/step - loss: 0.0457 - accuracy: 0.9783 - val_loss: 0.0921 - val_accuracy: 0.8438\n",
      "Epoch 128/500\n",
      "9/9 [==============================] - 0s 24ms/step - loss: 0.0429 - accuracy: 0.9511 - val_loss: 0.0854 - val_accuracy: 0.9375\n",
      "Epoch 129/500\n",
      "9/9 [==============================] - 0s 25ms/step - loss: 0.0436 - accuracy: 0.9565 - val_loss: 0.0892 - val_accuracy: 0.8750\n",
      "Epoch 130/500\n",
      "9/9 [==============================] - 0s 21ms/step - loss: 0.0394 - accuracy: 0.9565 - val_loss: 0.0902 - val_accuracy: 0.9062\n",
      "Epoch 131/500\n",
      "9/9 [==============================] - 0s 24ms/step - loss: 0.0404 - accuracy: 0.9457 - val_loss: 0.0843 - val_accuracy: 0.8750\n",
      "Epoch 132/500\n",
      "9/9 [==============================] - 0s 27ms/step - loss: 0.0457 - accuracy: 0.9565 - val_loss: 0.0839 - val_accuracy: 0.8750\n",
      "Epoch 133/500\n",
      "9/9 [==============================] - 0s 22ms/step - loss: 0.0548 - accuracy: 0.9457 - val_loss: 0.1013 - val_accuracy: 0.8438\n",
      "Epoch 134/500\n",
      "9/9 [==============================] - 0s 23ms/step - loss: 0.0495 - accuracy: 0.9293 - val_loss: 0.1175 - val_accuracy: 0.8750\n",
      "Epoch 135/500\n",
      "9/9 [==============================] - 0s 21ms/step - loss: 0.0434 - accuracy: 0.9511 - val_loss: 0.0863 - val_accuracy: 0.8750\n",
      "Epoch 136/500\n",
      "9/9 [==============================] - 0s 21ms/step - loss: 0.0512 - accuracy: 0.9511 - val_loss: 0.0844 - val_accuracy: 0.9062\n",
      "Epoch 137/500\n",
      "9/9 [==============================] - 0s 30ms/step - loss: 0.0373 - accuracy: 0.9728 - val_loss: 0.0875 - val_accuracy: 0.8750\n",
      "Epoch 138/500\n",
      "9/9 [==============================] - 0s 21ms/step - loss: 0.0348 - accuracy: 0.9783 - val_loss: 0.0918 - val_accuracy: 0.8750\n",
      "Epoch 139/500\n",
      "9/9 [==============================] - 0s 28ms/step - loss: 0.0324 - accuracy: 0.9728 - val_loss: 0.0869 - val_accuracy: 0.9375\n",
      "Epoch 140/500\n",
      "9/9 [==============================] - 0s 22ms/step - loss: 0.0379 - accuracy: 0.9565 - val_loss: 0.0883 - val_accuracy: 0.8750\n",
      "Epoch 141/500\n",
      "9/9 [==============================] - 0s 31ms/step - loss: 0.0387 - accuracy: 0.9511 - val_loss: 0.0753 - val_accuracy: 0.9062\n",
      "Epoch 142/500\n",
      "9/9 [==============================] - 0s 24ms/step - loss: 0.0337 - accuracy: 0.9783 - val_loss: 0.0781 - val_accuracy: 0.9062\n",
      "Epoch 143/500\n",
      "9/9 [==============================] - 0s 24ms/step - loss: 0.0380 - accuracy: 0.9674 - val_loss: 0.0844 - val_accuracy: 0.9062\n",
      "Epoch 144/500\n",
      "9/9 [==============================] - 0s 21ms/step - loss: 0.0397 - accuracy: 0.9728 - val_loss: 0.1082 - val_accuracy: 0.9062\n",
      "Epoch 145/500\n",
      "9/9 [==============================] - 0s 23ms/step - loss: 0.0480 - accuracy: 0.9565 - val_loss: 0.0742 - val_accuracy: 0.9062\n",
      "Epoch 146/500\n",
      "9/9 [==============================] - 0s 31ms/step - loss: 0.0433 - accuracy: 0.9565 - val_loss: 0.0822 - val_accuracy: 0.8750\n",
      "Epoch 147/500\n",
      "9/9 [==============================] - 0s 26ms/step - loss: 0.0383 - accuracy: 0.9674 - val_loss: 0.0822 - val_accuracy: 0.9062\n",
      "Epoch 148/500\n",
      "9/9 [==============================] - 0s 24ms/step - loss: 0.0417 - accuracy: 0.9620 - val_loss: 0.0948 - val_accuracy: 0.9062\n",
      "Epoch 149/500\n",
      "9/9 [==============================] - 0s 20ms/step - loss: 0.0368 - accuracy: 0.9565 - val_loss: 0.0783 - val_accuracy: 0.9375\n",
      "Epoch 150/500\n",
      "9/9 [==============================] - 0s 24ms/step - loss: 0.0319 - accuracy: 0.9620 - val_loss: 0.0668 - val_accuracy: 0.9062\n",
      "Epoch 151/500\n",
      "9/9 [==============================] - 0s 22ms/step - loss: 0.0320 - accuracy: 0.9728 - val_loss: 0.0780 - val_accuracy: 0.9062\n",
      "Epoch 152/500\n",
      "9/9 [==============================] - 0s 22ms/step - loss: 0.0401 - accuracy: 0.9565 - val_loss: 0.1141 - val_accuracy: 0.8750\n",
      "Epoch 153/500\n",
      "9/9 [==============================] - 0s 21ms/step - loss: 0.0360 - accuracy: 0.9674 - val_loss: 0.0608 - val_accuracy: 0.9062\n",
      "Epoch 154/500\n",
      "9/9 [==============================] - 0s 21ms/step - loss: 0.0352 - accuracy: 0.9620 - val_loss: 0.0725 - val_accuracy: 0.9062\n",
      "Epoch 155/500\n",
      "9/9 [==============================] - 0s 21ms/step - loss: 0.0442 - accuracy: 0.9565 - val_loss: 0.0785 - val_accuracy: 0.8750\n",
      "Epoch 156/500\n",
      "9/9 [==============================] - 0s 23ms/step - loss: 0.0353 - accuracy: 0.9728 - val_loss: 0.0944 - val_accuracy: 0.9062\n",
      "Epoch 157/500\n",
      "9/9 [==============================] - 0s 21ms/step - loss: 0.0431 - accuracy: 0.9620 - val_loss: 0.0696 - val_accuracy: 0.8750\n",
      "Epoch 158/500\n",
      "9/9 [==============================] - 0s 22ms/step - loss: 0.0355 - accuracy: 0.9565 - val_loss: 0.0839 - val_accuracy: 0.9375\n",
      "Epoch 159/500\n",
      "9/9 [==============================] - 0s 21ms/step - loss: 0.0303 - accuracy: 0.9728 - val_loss: 0.0756 - val_accuracy: 0.9062\n",
      "Epoch 160/500\n",
      "9/9 [==============================] - 0s 21ms/step - loss: 0.0331 - accuracy: 0.9674 - val_loss: 0.0778 - val_accuracy: 0.9062\n",
      "Epoch 161/500\n",
      "9/9 [==============================] - 0s 26ms/step - loss: 0.0309 - accuracy: 0.9620 - val_loss: 0.0852 - val_accuracy: 0.8750\n",
      "Epoch 162/500\n",
      "9/9 [==============================] - 0s 21ms/step - loss: 0.0340 - accuracy: 0.9620 - val_loss: 0.0729 - val_accuracy: 0.9062\n",
      "Epoch 163/500\n",
      "9/9 [==============================] - 0s 24ms/step - loss: 0.0305 - accuracy: 0.9728 - val_loss: 0.0692 - val_accuracy: 0.9062\n",
      "Epoch 164/500\n",
      "9/9 [==============================] - 0s 22ms/step - loss: 0.0292 - accuracy: 0.9837 - val_loss: 0.0682 - val_accuracy: 0.9062\n",
      "Epoch 165/500\n",
      "9/9 [==============================] - 0s 21ms/step - loss: 0.0267 - accuracy: 0.9783 - val_loss: 0.0675 - val_accuracy: 0.9062\n",
      "Epoch 166/500\n",
      "9/9 [==============================] - 0s 25ms/step - loss: 0.0318 - accuracy: 0.9674 - val_loss: 0.0719 - val_accuracy: 0.9062\n",
      "Epoch 167/500\n",
      "9/9 [==============================] - 0s 32ms/step - loss: 0.0253 - accuracy: 0.9783 - val_loss: 0.0814 - val_accuracy: 0.9062\n",
      "Epoch 168/500\n",
      "9/9 [==============================] - 0s 24ms/step - loss: 0.0310 - accuracy: 0.9728 - val_loss: 0.0709 - val_accuracy: 0.9062\n",
      "Epoch 169/500\n",
      "9/9 [==============================] - 0s 22ms/step - loss: 0.0250 - accuracy: 0.9674 - val_loss: 0.0624 - val_accuracy: 0.9062\n",
      "Epoch 170/500\n",
      "9/9 [==============================] - 0s 20ms/step - loss: 0.0233 - accuracy: 0.9891 - val_loss: 0.0666 - val_accuracy: 0.9062\n",
      "Epoch 171/500\n",
      "9/9 [==============================] - 0s 20ms/step - loss: 0.0235 - accuracy: 0.9837 - val_loss: 0.0592 - val_accuracy: 0.9062\n",
      "Epoch 172/500\n",
      "9/9 [==============================] - 0s 24ms/step - loss: 0.0208 - accuracy: 0.9837 - val_loss: 0.0674 - val_accuracy: 0.9062\n",
      "Epoch 173/500\n",
      "9/9 [==============================] - 0s 21ms/step - loss: 0.0235 - accuracy: 0.9837 - val_loss: 0.0700 - val_accuracy: 0.9062\n",
      "Epoch 174/500\n",
      "9/9 [==============================] - 0s 24ms/step - loss: 0.0220 - accuracy: 0.9837 - val_loss: 0.0499 - val_accuracy: 0.9375\n"
     ]
    },
    {
     "name": "stdout",
     "output_type": "stream",
     "text": [
      "Epoch 175/500\n",
      "9/9 [==============================] - 0s 21ms/step - loss: 0.0268 - accuracy: 0.9837 - val_loss: 0.0655 - val_accuracy: 0.9062\n",
      "Epoch 176/500\n",
      "9/9 [==============================] - 0s 26ms/step - loss: 0.0234 - accuracy: 0.9837 - val_loss: 0.0692 - val_accuracy: 0.9062\n",
      "Epoch 177/500\n",
      "9/9 [==============================] - 0s 25ms/step - loss: 0.0256 - accuracy: 0.9837 - val_loss: 0.0716 - val_accuracy: 0.9062\n",
      "Epoch 178/500\n",
      "9/9 [==============================] - 0s 25ms/step - loss: 0.0297 - accuracy: 0.9728 - val_loss: 0.0674 - val_accuracy: 0.9062\n",
      "Epoch 179/500\n",
      "9/9 [==============================] - 0s 20ms/step - loss: 0.0269 - accuracy: 0.9837 - val_loss: 0.0516 - val_accuracy: 0.9062\n",
      "Epoch 180/500\n",
      "9/9 [==============================] - 0s 21ms/step - loss: 0.0252 - accuracy: 0.9783 - val_loss: 0.0720 - val_accuracy: 0.9062\n",
      "Epoch 181/500\n",
      "9/9 [==============================] - 0s 21ms/step - loss: 0.0289 - accuracy: 0.9728 - val_loss: 0.0692 - val_accuracy: 0.9062\n",
      "Epoch 182/500\n",
      "9/9 [==============================] - 0s 25ms/step - loss: 0.0231 - accuracy: 0.9728 - val_loss: 0.0671 - val_accuracy: 0.9062\n",
      "Epoch 183/500\n",
      "9/9 [==============================] - 0s 22ms/step - loss: 0.0287 - accuracy: 0.9891 - val_loss: 0.0761 - val_accuracy: 0.9062\n",
      "Epoch 184/500\n",
      "9/9 [==============================] - 0s 23ms/step - loss: 0.0326 - accuracy: 0.9837 - val_loss: 0.0633 - val_accuracy: 0.9375\n",
      "Epoch 185/500\n",
      "9/9 [==============================] - 0s 23ms/step - loss: 0.0276 - accuracy: 0.9837 - val_loss: 0.0863 - val_accuracy: 0.9062\n",
      "Epoch 186/500\n",
      "9/9 [==============================] - 0s 21ms/step - loss: 0.0286 - accuracy: 0.9728 - val_loss: 0.0658 - val_accuracy: 0.9062\n",
      "Epoch 187/500\n",
      "9/9 [==============================] - 0s 25ms/step - loss: 0.0260 - accuracy: 0.9783 - val_loss: 0.0516 - val_accuracy: 0.9375\n",
      "Epoch 188/500\n",
      "9/9 [==============================] - 0s 22ms/step - loss: 0.0245 - accuracy: 0.9620 - val_loss: 0.0537 - val_accuracy: 0.9062\n",
      "Epoch 189/500\n",
      "9/9 [==============================] - 0s 32ms/step - loss: 0.0209 - accuracy: 0.9783 - val_loss: 0.0529 - val_accuracy: 0.9062\n",
      "Epoch 190/500\n",
      "9/9 [==============================] - 0s 22ms/step - loss: 0.0186 - accuracy: 0.9891 - val_loss: 0.0556 - val_accuracy: 0.9062\n",
      "Epoch 191/500\n",
      "9/9 [==============================] - 0s 21ms/step - loss: 0.0164 - accuracy: 0.9728 - val_loss: 0.0661 - val_accuracy: 0.9375\n",
      "Epoch 192/500\n",
      "9/9 [==============================] - 0s 25ms/step - loss: 0.0229 - accuracy: 1.0000 - val_loss: 0.1064 - val_accuracy: 0.8750\n",
      "Epoch 193/500\n",
      "9/9 [==============================] - 0s 25ms/step - loss: 0.0405 - accuracy: 0.9728 - val_loss: 0.0591 - val_accuracy: 0.9062\n",
      "Epoch 194/500\n",
      "9/9 [==============================] - 0s 21ms/step - loss: 0.0221 - accuracy: 0.9837 - val_loss: 0.0741 - val_accuracy: 0.9062\n",
      "Epoch 195/500\n",
      "9/9 [==============================] - 0s 22ms/step - loss: 0.0283 - accuracy: 0.9783 - val_loss: 0.0468 - val_accuracy: 0.9375\n",
      "Epoch 196/500\n",
      "9/9 [==============================] - 0s 23ms/step - loss: 0.0235 - accuracy: 0.9783 - val_loss: 0.0489 - val_accuracy: 0.9062\n",
      "Epoch 197/500\n",
      "9/9 [==============================] - 0s 22ms/step - loss: 0.0208 - accuracy: 0.9891 - val_loss: 0.0607 - val_accuracy: 0.9062\n",
      "Epoch 198/500\n",
      "9/9 [==============================] - 0s 21ms/step - loss: 0.0222 - accuracy: 0.9837 - val_loss: 0.0584 - val_accuracy: 0.9375\n",
      "Epoch 199/500\n",
      "9/9 [==============================] - 0s 21ms/step - loss: 0.0176 - accuracy: 0.9837 - val_loss: 0.0395 - val_accuracy: 0.9688\n",
      "Epoch 200/500\n",
      "9/9 [==============================] - 0s 23ms/step - loss: 0.0176 - accuracy: 0.9891 - val_loss: 0.0607 - val_accuracy: 0.9062\n",
      "Epoch 201/500\n",
      "9/9 [==============================] - 0s 21ms/step - loss: 0.0180 - accuracy: 0.9891 - val_loss: 0.0660 - val_accuracy: 0.8750\n",
      "Epoch 202/500\n",
      "9/9 [==============================] - 0s 21ms/step - loss: 0.0174 - accuracy: 0.9837 - val_loss: 0.0498 - val_accuracy: 0.9062\n",
      "Epoch 203/500\n",
      "9/9 [==============================] - 0s 25ms/step - loss: 0.0136 - accuracy: 0.9891 - val_loss: 0.0556 - val_accuracy: 0.9062\n",
      "Epoch 204/500\n",
      "9/9 [==============================] - 0s 21ms/step - loss: 0.0153 - accuracy: 0.9891 - val_loss: 0.0452 - val_accuracy: 0.9062\n",
      "Epoch 205/500\n",
      "9/9 [==============================] - 0s 20ms/step - loss: 0.0144 - accuracy: 0.9891 - val_loss: 0.0672 - val_accuracy: 0.9062\n",
      "Epoch 206/500\n",
      "9/9 [==============================] - 0s 21ms/step - loss: 0.0243 - accuracy: 0.9837 - val_loss: 0.0334 - val_accuracy: 0.9688\n",
      "Epoch 207/500\n",
      "9/9 [==============================] - 0s 21ms/step - loss: 0.0231 - accuracy: 0.9891 - val_loss: 0.0604 - val_accuracy: 0.9375\n",
      "Epoch 208/500\n",
      "9/9 [==============================] - 0s 22ms/step - loss: 0.0229 - accuracy: 0.9837 - val_loss: 0.0647 - val_accuracy: 0.9062\n",
      "Epoch 209/500\n",
      "9/9 [==============================] - 0s 33ms/step - loss: 0.0158 - accuracy: 0.9946 - val_loss: 0.0451 - val_accuracy: 0.9375\n",
      "Epoch 210/500\n",
      "9/9 [==============================] - 0s 25ms/step - loss: 0.0183 - accuracy: 0.9891 - val_loss: 0.0396 - val_accuracy: 0.9688\n",
      "Epoch 211/500\n",
      "9/9 [==============================] - 0s 23ms/step - loss: 0.0208 - accuracy: 0.9837 - val_loss: 0.0636 - val_accuracy: 0.9375\n",
      "Epoch 212/500\n",
      "9/9 [==============================] - 0s 21ms/step - loss: 0.0253 - accuracy: 0.9891 - val_loss: 0.0665 - val_accuracy: 0.8750\n",
      "Epoch 213/500\n",
      "9/9 [==============================] - 0s 22ms/step - loss: 0.0340 - accuracy: 0.9674 - val_loss: 0.0577 - val_accuracy: 0.8750\n",
      "Epoch 214/500\n",
      "9/9 [==============================] - 0s 24ms/step - loss: 0.0406 - accuracy: 0.9565 - val_loss: 0.0874 - val_accuracy: 0.9062\n",
      "Epoch 215/500\n",
      "9/9 [==============================] - 0s 22ms/step - loss: 0.0269 - accuracy: 0.9837 - val_loss: 0.0530 - val_accuracy: 0.9062\n",
      "Epoch 216/500\n",
      "9/9 [==============================] - 0s 23ms/step - loss: 0.0243 - accuracy: 0.9783 - val_loss: 0.0588 - val_accuracy: 0.9375\n",
      "Epoch 217/500\n",
      "9/9 [==============================] - 0s 22ms/step - loss: 0.0186 - accuracy: 0.9728 - val_loss: 0.0554 - val_accuracy: 0.9375\n",
      "Epoch 218/500\n",
      "9/9 [==============================] - 0s 20ms/step - loss: 0.0155 - accuracy: 0.9891 - val_loss: 0.0546 - val_accuracy: 0.9062\n",
      "Epoch 219/500\n",
      "9/9 [==============================] - 0s 22ms/step - loss: 0.0123 - accuracy: 0.9891 - val_loss: 0.0525 - val_accuracy: 0.9062\n",
      "Epoch 220/500\n",
      "9/9 [==============================] - 0s 21ms/step - loss: 0.0106 - accuracy: 0.9891 - val_loss: 0.0433 - val_accuracy: 0.9062\n",
      "Epoch 221/500\n",
      "9/9 [==============================] - 0s 22ms/step - loss: 0.0100 - accuracy: 0.9946 - val_loss: 0.0556 - val_accuracy: 0.9375\n",
      "Epoch 222/500\n",
      "9/9 [==============================] - 0s 23ms/step - loss: 0.0114 - accuracy: 0.9946 - val_loss: 0.0669 - val_accuracy: 0.9062\n",
      "Epoch 223/500\n",
      "9/9 [==============================] - 0s 23ms/step - loss: 0.0121 - accuracy: 0.9946 - val_loss: 0.0338 - val_accuracy: 0.9375\n",
      "Epoch 224/500\n",
      "9/9 [==============================] - 0s 21ms/step - loss: 0.0096 - accuracy: 0.9946 - val_loss: 0.0516 - val_accuracy: 0.9062\n",
      "Epoch 225/500\n",
      "9/9 [==============================] - 0s 21ms/step - loss: 0.0103 - accuracy: 0.9946 - val_loss: 0.0572 - val_accuracy: 0.9062\n",
      "Epoch 226/500\n",
      "9/9 [==============================] - 0s 23ms/step - loss: 0.0103 - accuracy: 0.9946 - val_loss: 0.0329 - val_accuracy: 0.9375\n",
      "Epoch 227/500\n",
      "9/9 [==============================] - 0s 21ms/step - loss: 0.0118 - accuracy: 0.9946 - val_loss: 0.0543 - val_accuracy: 0.9062\n",
      "Epoch 228/500\n",
      "9/9 [==============================] - 0s 22ms/step - loss: 0.0128 - accuracy: 1.0000 - val_loss: 0.0371 - val_accuracy: 0.9375\n",
      "Epoch 229/500\n",
      "9/9 [==============================] - 0s 24ms/step - loss: 0.0141 - accuracy: 0.9946 - val_loss: 0.0630 - val_accuracy: 0.9375\n",
      "Epoch 230/500\n",
      "9/9 [==============================] - 0s 21ms/step - loss: 0.0185 - accuracy: 0.9783 - val_loss: 0.0597 - val_accuracy: 0.9062\n",
      "Epoch 231/500\n",
      "9/9 [==============================] - 0s 21ms/step - loss: 0.0425 - accuracy: 0.9620 - val_loss: 0.0776 - val_accuracy: 0.9062\n",
      "Epoch 232/500\n",
      "9/9 [==============================] - 0s 20ms/step - loss: 0.0278 - accuracy: 0.9783 - val_loss: 0.0525 - val_accuracy: 0.9062\n"
     ]
    },
    {
     "name": "stdout",
     "output_type": "stream",
     "text": [
      "Epoch 233/500\n",
      "9/9 [==============================] - 0s 21ms/step - loss: 0.0126 - accuracy: 0.9946 - val_loss: 0.0430 - val_accuracy: 0.9375\n",
      "Epoch 234/500\n",
      "9/9 [==============================] - 0s 24ms/step - loss: 0.0119 - accuracy: 0.9946 - val_loss: 0.0524 - val_accuracy: 0.9062\n",
      "Epoch 235/500\n",
      "9/9 [==============================] - 0s 27ms/step - loss: 0.0099 - accuracy: 0.9946 - val_loss: 0.0479 - val_accuracy: 0.9062\n",
      "Epoch 236/500\n",
      "9/9 [==============================] - 0s 23ms/step - loss: 0.0137 - accuracy: 0.9783 - val_loss: 0.0560 - val_accuracy: 0.9062\n",
      "Epoch 237/500\n",
      "9/9 [==============================] - 0s 20ms/step - loss: 0.0155 - accuracy: 0.9837 - val_loss: 0.0533 - val_accuracy: 0.9375\n",
      "Epoch 238/500\n",
      "9/9 [==============================] - 0s 23ms/step - loss: 0.0149 - accuracy: 0.9891 - val_loss: 0.0532 - val_accuracy: 0.9062\n",
      "Epoch 239/500\n",
      "9/9 [==============================] - 0s 23ms/step - loss: 0.0099 - accuracy: 0.9946 - val_loss: 0.0503 - val_accuracy: 0.9375\n",
      "Epoch 240/500\n",
      "9/9 [==============================] - 0s 25ms/step - loss: 0.0093 - accuracy: 0.9946 - val_loss: 0.0544 - val_accuracy: 0.9375\n",
      "Epoch 241/500\n",
      "9/9 [==============================] - 0s 21ms/step - loss: 0.0083 - accuracy: 0.9946 - val_loss: 0.0610 - val_accuracy: 0.9062\n",
      "Epoch 242/500\n",
      "9/9 [==============================] - 0s 20ms/step - loss: 0.0085 - accuracy: 0.9946 - val_loss: 0.0469 - val_accuracy: 0.9062\n",
      "Epoch 243/500\n",
      "9/9 [==============================] - 0s 21ms/step - loss: 0.0090 - accuracy: 0.9946 - val_loss: 0.0479 - val_accuracy: 0.9062\n",
      "Epoch 244/500\n",
      "9/9 [==============================] - 0s 22ms/step - loss: 0.0100 - accuracy: 1.0000 - val_loss: 0.0507 - val_accuracy: 0.9375\n",
      "Epoch 245/500\n",
      "9/9 [==============================] - 0s 24ms/step - loss: 0.0219 - accuracy: 0.9728 - val_loss: 0.0698 - val_accuracy: 0.9062\n",
      "Epoch 246/500\n",
      "9/9 [==============================] - 0s 24ms/step - loss: 0.0164 - accuracy: 0.9891 - val_loss: 0.0535 - val_accuracy: 0.9062\n",
      "Epoch 247/500\n",
      "9/9 [==============================] - 0s 21ms/step - loss: 0.0250 - accuracy: 0.9783 - val_loss: 0.0641 - val_accuracy: 0.9062\n",
      "Epoch 248/500\n",
      "9/9 [==============================] - 0s 22ms/step - loss: 0.0317 - accuracy: 0.9620 - val_loss: 0.0720 - val_accuracy: 0.9062\n",
      "Epoch 249/500\n",
      "9/9 [==============================] - 0s 23ms/step - loss: 0.0197 - accuracy: 0.9891 - val_loss: 0.0417 - val_accuracy: 0.9688\n",
      "Epoch 250/500\n",
      "9/9 [==============================] - 0s 26ms/step - loss: 0.0147 - accuracy: 1.0000 - val_loss: 0.0591 - val_accuracy: 0.8750\n",
      "Epoch 251/500\n",
      "9/9 [==============================] - 0s 21ms/step - loss: 0.0123 - accuracy: 0.9946 - val_loss: 0.0465 - val_accuracy: 0.9375\n",
      "Epoch 252/500\n",
      "9/9 [==============================] - 0s 21ms/step - loss: 0.0119 - accuracy: 0.9891 - val_loss: 0.0385 - val_accuracy: 0.9375\n",
      "Epoch 253/500\n",
      "9/9 [==============================] - 0s 21ms/step - loss: 0.0100 - accuracy: 0.9946 - val_loss: 0.0465 - val_accuracy: 0.9062\n",
      "Epoch 254/500\n",
      "9/9 [==============================] - 0s 20ms/step - loss: 0.0103 - accuracy: 0.9946 - val_loss: 0.0425 - val_accuracy: 0.9375\n",
      "Epoch 255/500\n",
      "9/9 [==============================] - 0s 28ms/step - loss: 0.0108 - accuracy: 1.0000 - val_loss: 0.0426 - val_accuracy: 0.9375\n",
      "Epoch 256/500\n",
      "6/9 [===================>..........] - ETA: 0s - loss: 0.0083 - accuracy: 0.9924Restoring model weights from the end of the best epoch: 226.\n",
      "9/9 [==============================] - 0s 31ms/step - loss: 0.0096 - accuracy: 0.9891 - val_loss: 0.0452 - val_accuracy: 0.9375\n",
      "Epoch 256: early stopping\n"
     ]
    }
   ],
   "source": [
    "es_callback = tf.keras.callbacks.EarlyStopping(patience=30, verbose=1, restore_best_weights=True)\n",
    "history = model.fit(X_train, y_train, batch_size=22, epochs=500, \n",
    "                    validation_data=(X_val, y_val), callbacks=[es_callback])"
   ]
  },
  {
   "cell_type": "markdown",
   "id": "1ca9ff0c",
   "metadata": {},
   "source": [
    "# model Evaluation"
   ]
  },
  {
   "cell_type": "code",
   "execution_count": 18,
   "id": "8774e1e8",
   "metadata": {},
   "outputs": [
    {
     "name": "stdout",
     "output_type": "stream",
     "text": [
      "2/2 [==============================] - 0s 17ms/step - loss: 0.0561 - accuracy: 0.9744\n"
     ]
    },
    {
     "data": {
      "text/plain": [
       "[0.05608132481575012, 0.9743589758872986]"
      ]
     },
     "execution_count": 18,
     "metadata": {},
     "output_type": "execute_result"
    }
   ],
   "source": [
    "model.evaluate(X_test, y_test)"
   ]
  },
  {
   "cell_type": "code",
   "execution_count": 19,
   "id": "21a32fd2",
   "metadata": {},
   "outputs": [
    {
     "name": "stdout",
     "output_type": "stream",
     "text": [
      "2/2 [==============================] - 1s 0s/step\n"
     ]
    }
   ],
   "source": [
    "y_pred=model.predict(X_test)\n",
    "# y_pred"
   ]
  },
  {
   "cell_type": "code",
   "execution_count": 20,
   "id": "9af80b99",
   "metadata": {},
   "outputs": [
    {
     "data": {
      "text/plain": [
       "array([1, 1, 1, 1, 1, 1, 1, 1, 1, 1, 0, 1, 1, 1, 1, 1, 1, 1, 0, 1, 1, 1,\n",
       "       1, 0, 1, 1, 1, 1, 0, 1, 1, 1, 1, 0, 1, 0, 1, 0, 1])"
      ]
     },
     "execution_count": 20,
     "metadata": {},
     "output_type": "execute_result"
    }
   ],
   "source": [
    "y_test"
   ]
  },
  {
   "cell_type": "code",
   "execution_count": 21,
   "id": "13b8b1e5",
   "metadata": {},
   "outputs": [],
   "source": [
    "pred=np.where(y_pred>0.50,1,0)"
   ]
  },
  {
   "cell_type": "code",
   "execution_count": 22,
   "id": "43ceb3ed",
   "metadata": {},
   "outputs": [],
   "source": [
    "# pred"
   ]
  },
  {
   "cell_type": "code",
   "execution_count": 23,
   "id": "bb9d54ab",
   "metadata": {},
   "outputs": [
    {
     "data": {
      "text/plain": [
       "array([[ 6,  1],\n",
       "       [ 0, 32]], dtype=int64)"
      ]
     },
     "execution_count": 23,
     "metadata": {},
     "output_type": "execute_result"
    }
   ],
   "source": [
    "cf=confusion_matrix(y_test,pred)\n",
    "cf"
   ]
  },
  {
   "cell_type": "code",
   "execution_count": 24,
   "id": "e61f0ad5",
   "metadata": {},
   "outputs": [
    {
     "data": {
      "text/plain": [
       "<sklearn.metrics._plot.confusion_matrix.ConfusionMatrixDisplay at 0x1de52241870>"
      ]
     },
     "execution_count": 24,
     "metadata": {},
     "output_type": "execute_result"
    },
    {
     "data": {
      "image/png": "[encoded data removed]",
      "text/plain": [
       "<Figure size 640x480 with 2 Axes>"
      ]
     },
     "metadata": {},
     "output_type": "display_data"
    }
   ],
   "source": [
    "ConfusionMatrixDisplay(confusion_matrix=cf).plot()"
   ]
  },
  {
   "cell_type": "code",
   "execution_count": 25,
   "id": "97328f61",
   "metadata": {},
   "outputs": [
    {
     "data": {
      "text/plain": [
       "97.43589743589743"
      ]
     },
     "execution_count": 25,
     "metadata": {},
     "output_type": "execute_result"
    }
   ],
   "source": [
    "acc=cf.diagonal().sum()/cf.sum()*100\n",
    "acc"
   ]
  },
  {
   "cell_type": "code",
   "execution_count": 26,
   "id": "5e92a1d3",
   "metadata": {},
   "outputs": [
    {
     "name": "stdout",
     "output_type": "stream",
     "text": [
      "              precision    recall  f1-score   support\n",
      "\n",
      "           0       1.00      0.86      0.92         7\n",
      "           1       0.97      1.00      0.98        32\n",
      "\n",
      "    accuracy                           0.97        39\n",
      "   macro avg       0.98      0.93      0.95        39\n",
      "weighted avg       0.98      0.97      0.97        39\n",
      "\n"
     ]
    }
   ],
   "source": [
    "print(classification_report(y_test,pred))"
   ]
  },
  {
   "cell_type": "code",
   "execution_count": null,
   "id": "b4e3f908",
   "metadata": {},
   "outputs": [],
   "source": []
  },
  {
   "cell_type": "code",
   "execution_count": null,
   "id": "f0a7109b",
   "metadata": {},
   "outputs": [],
   "source": []
  }
 ],
 "metadata": {
  "kernelspec": {
   "display_name": "Python 3 (ipykernel)",
   "language": "python",
   "name": "python3"
  },
  "language_info": {
   "codemirror_mode": {
    "name": "ipython",
    "version": 3
   },
   "file_extension": ".py",
   "mimetype": "text/x-python",
   "name": "python",
   "nbconvert_exporter": "python",
   "pygments_lexer": "ipython3",
   "version": "3.10.9"
  }
 },
 "nbformat": 4,
 "nbformat_minor": 5
}
